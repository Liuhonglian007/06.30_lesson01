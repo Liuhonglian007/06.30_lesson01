{
 "cells": [
  {
   "cell_type": "code",
   "execution_count": 1,
   "metadata": {},
   "outputs": [],
   "source": [
    "from sklearn.datasets import load_boston"
   ]
  },
  {
   "cell_type": "code",
   "execution_count": 2,
   "metadata": {},
   "outputs": [],
   "source": [
    "dataset=load_boston()"
   ]
  },
  {
   "cell_type": "code",
   "execution_count": 3,
   "metadata": {},
   "outputs": [
    {
     "data": {
      "text/plain": [
       "{'data': array([[6.3200e-03, 1.8000e+01, 2.3100e+00, ..., 1.5300e+01, 3.9690e+02,\n",
       "         4.9800e+00],\n",
       "        [2.7310e-02, 0.0000e+00, 7.0700e+00, ..., 1.7800e+01, 3.9690e+02,\n",
       "         9.1400e+00],\n",
       "        [2.7290e-02, 0.0000e+00, 7.0700e+00, ..., 1.7800e+01, 3.9283e+02,\n",
       "         4.0300e+00],\n",
       "        ...,\n",
       "        [6.0760e-02, 0.0000e+00, 1.1930e+01, ..., 2.1000e+01, 3.9690e+02,\n",
       "         5.6400e+00],\n",
       "        [1.0959e-01, 0.0000e+00, 1.1930e+01, ..., 2.1000e+01, 3.9345e+02,\n",
       "         6.4800e+00],\n",
       "        [4.7410e-02, 0.0000e+00, 1.1930e+01, ..., 2.1000e+01, 3.9690e+02,\n",
       "         7.8800e+00]]),\n",
       " 'target': array([24. , 21.6, 34.7, 33.4, 36.2, 28.7, 22.9, 27.1, 16.5, 18.9, 15. ,\n",
       "        18.9, 21.7, 20.4, 18.2, 19.9, 23.1, 17.5, 20.2, 18.2, 13.6, 19.6,\n",
       "        15.2, 14.5, 15.6, 13.9, 16.6, 14.8, 18.4, 21. , 12.7, 14.5, 13.2,\n",
       "        13.1, 13.5, 18.9, 20. , 21. , 24.7, 30.8, 34.9, 26.6, 25.3, 24.7,\n",
       "        21.2, 19.3, 20. , 16.6, 14.4, 19.4, 19.7, 20.5, 25. , 23.4, 18.9,\n",
       "        35.4, 24.7, 31.6, 23.3, 19.6, 18.7, 16. , 22.2, 25. , 33. , 23.5,\n",
       "        19.4, 22. , 17.4, 20.9, 24.2, 21.7, 22.8, 23.4, 24.1, 21.4, 20. ,\n",
       "        20.8, 21.2, 20.3, 28. , 23.9, 24.8, 22.9, 23.9, 26.6, 22.5, 22.2,\n",
       "        23.6, 28.7, 22.6, 22. , 22.9, 25. , 20.6, 28.4, 21.4, 38.7, 43.8,\n",
       "        33.2, 27.5, 26.5, 18.6, 19.3, 20.1, 19.5, 19.5, 20.4, 19.8, 19.4,\n",
       "        21.7, 22.8, 18.8, 18.7, 18.5, 18.3, 21.2, 19.2, 20.4, 19.3, 22. ,\n",
       "        20.3, 20.5, 17.3, 18.8, 21.4, 15.7, 16.2, 18. , 14.3, 19.2, 19.6,\n",
       "        23. , 18.4, 15.6, 18.1, 17.4, 17.1, 13.3, 17.8, 14. , 14.4, 13.4,\n",
       "        15.6, 11.8, 13.8, 15.6, 14.6, 17.8, 15.4, 21.5, 19.6, 15.3, 19.4,\n",
       "        17. , 15.6, 13.1, 41.3, 24.3, 23.3, 27. , 50. , 50. , 50. , 22.7,\n",
       "        25. , 50. , 23.8, 23.8, 22.3, 17.4, 19.1, 23.1, 23.6, 22.6, 29.4,\n",
       "        23.2, 24.6, 29.9, 37.2, 39.8, 36.2, 37.9, 32.5, 26.4, 29.6, 50. ,\n",
       "        32. , 29.8, 34.9, 37. , 30.5, 36.4, 31.1, 29.1, 50. , 33.3, 30.3,\n",
       "        34.6, 34.9, 32.9, 24.1, 42.3, 48.5, 50. , 22.6, 24.4, 22.5, 24.4,\n",
       "        20. , 21.7, 19.3, 22.4, 28.1, 23.7, 25. , 23.3, 28.7, 21.5, 23. ,\n",
       "        26.7, 21.7, 27.5, 30.1, 44.8, 50. , 37.6, 31.6, 46.7, 31.5, 24.3,\n",
       "        31.7, 41.7, 48.3, 29. , 24. , 25.1, 31.5, 23.7, 23.3, 22. , 20.1,\n",
       "        22.2, 23.7, 17.6, 18.5, 24.3, 20.5, 24.5, 26.2, 24.4, 24.8, 29.6,\n",
       "        42.8, 21.9, 20.9, 44. , 50. , 36. , 30.1, 33.8, 43.1, 48.8, 31. ,\n",
       "        36.5, 22.8, 30.7, 50. , 43.5, 20.7, 21.1, 25.2, 24.4, 35.2, 32.4,\n",
       "        32. , 33.2, 33.1, 29.1, 35.1, 45.4, 35.4, 46. , 50. , 32.2, 22. ,\n",
       "        20.1, 23.2, 22.3, 24.8, 28.5, 37.3, 27.9, 23.9, 21.7, 28.6, 27.1,\n",
       "        20.3, 22.5, 29. , 24.8, 22. , 26.4, 33.1, 36.1, 28.4, 33.4, 28.2,\n",
       "        22.8, 20.3, 16.1, 22.1, 19.4, 21.6, 23.8, 16.2, 17.8, 19.8, 23.1,\n",
       "        21. , 23.8, 23.1, 20.4, 18.5, 25. , 24.6, 23. , 22.2, 19.3, 22.6,\n",
       "        19.8, 17.1, 19.4, 22.2, 20.7, 21.1, 19.5, 18.5, 20.6, 19. , 18.7,\n",
       "        32.7, 16.5, 23.9, 31.2, 17.5, 17.2, 23.1, 24.5, 26.6, 22.9, 24.1,\n",
       "        18.6, 30.1, 18.2, 20.6, 17.8, 21.7, 22.7, 22.6, 25. , 19.9, 20.8,\n",
       "        16.8, 21.9, 27.5, 21.9, 23.1, 50. , 50. , 50. , 50. , 50. , 13.8,\n",
       "        13.8, 15. , 13.9, 13.3, 13.1, 10.2, 10.4, 10.9, 11.3, 12.3,  8.8,\n",
       "         7.2, 10.5,  7.4, 10.2, 11.5, 15.1, 23.2,  9.7, 13.8, 12.7, 13.1,\n",
       "        12.5,  8.5,  5. ,  6.3,  5.6,  7.2, 12.1,  8.3,  8.5,  5. , 11.9,\n",
       "        27.9, 17.2, 27.5, 15. , 17.2, 17.9, 16.3,  7. ,  7.2,  7.5, 10.4,\n",
       "         8.8,  8.4, 16.7, 14.2, 20.8, 13.4, 11.7,  8.3, 10.2, 10.9, 11. ,\n",
       "         9.5, 14.5, 14.1, 16.1, 14.3, 11.7, 13.4,  9.6,  8.7,  8.4, 12.8,\n",
       "        10.5, 17.1, 18.4, 15.4, 10.8, 11.8, 14.9, 12.6, 14.1, 13. , 13.4,\n",
       "        15.2, 16.1, 17.8, 14.9, 14.1, 12.7, 13.5, 14.9, 20. , 16.4, 17.7,\n",
       "        19.5, 20.2, 21.4, 19.9, 19. , 19.1, 19.1, 20.1, 19.9, 19.6, 23.2,\n",
       "        29.8, 13.8, 13.3, 16.7, 12. , 14.6, 21.4, 23. , 23.7, 25. , 21.8,\n",
       "        20.6, 21.2, 19.1, 20.6, 15.2,  7. ,  8.1, 13.6, 20.1, 21.8, 24.5,\n",
       "        23.1, 19.7, 18.3, 21.2, 17.5, 16.8, 22.4, 20.6, 23.9, 22. , 11.9]),\n",
       " 'feature_names': array(['CRIM', 'ZN', 'INDUS', 'CHAS', 'NOX', 'RM', 'AGE', 'DIS', 'RAD',\n",
       "        'TAX', 'PTRATIO', 'B', 'LSTAT'], dtype='<U7'),\n",
       " 'DESCR': \".. _boston_dataset:\\n\\nBoston house prices dataset\\n---------------------------\\n\\n**Data Set Characteristics:**  \\n\\n    :Number of Instances: 506 \\n\\n    :Number of Attributes: 13 numeric/categorical predictive. Median Value (attribute 14) is usually the target.\\n\\n    :Attribute Information (in order):\\n        - CRIM     per capita crime rate by town\\n        - ZN       proportion of residential land zoned for lots over 25,000 sq.ft.\\n        - INDUS    proportion of non-retail business acres per town\\n        - CHAS     Charles River dummy variable (= 1 if tract bounds river; 0 otherwise)\\n        - NOX      nitric oxides concentration (parts per 10 million)\\n        - RM       average number of rooms per dwelling\\n        - AGE      proportion of owner-occupied units built prior to 1940\\n        - DIS      weighted distances to five Boston employment centres\\n        - RAD      index of accessibility to radial highways\\n        - TAX      full-value property-tax rate per $10,000\\n        - PTRATIO  pupil-teacher ratio by town\\n        - B        1000(Bk - 0.63)^2 where Bk is the proportion of blacks by town\\n        - LSTAT    % lower status of the population\\n        - MEDV     Median value of owner-occupied homes in $1000's\\n\\n    :Missing Attribute Values: None\\n\\n    :Creator: Harrison, D. and Rubinfeld, D.L.\\n\\nThis is a copy of UCI ML housing dataset.\\nhttps://archive.ics.uci.edu/ml/machine-learning-databases/housing/\\n\\n\\nThis dataset was taken from the StatLib library which is maintained at Carnegie Mellon University.\\n\\nThe Boston house-price data of Harrison, D. and Rubinfeld, D.L. 'Hedonic\\nprices and the demand for clean air', J. Environ. Economics & Management,\\nvol.5, 81-102, 1978.   Used in Belsley, Kuh & Welsch, 'Regression diagnostics\\n...', Wiley, 1980.   N.B. Various transformations are used in the table on\\npages 244-261 of the latter.\\n\\nThe Boston house-price data has been used in many machine learning papers that address regression\\nproblems.   \\n     \\n.. topic:: References\\n\\n   - Belsley, Kuh & Welsch, 'Regression diagnostics: Identifying Influential Data and Sources of Collinearity', Wiley, 1980. 244-261.\\n   - Quinlan,R. (1993). Combining Instance-Based and Model-Based Learning. In Proceedings on the Tenth International Conference of Machine Learning, 236-243, University of Massachusetts, Amherst. Morgan Kaufmann.\\n\",\n",
       " 'filename': '/Users/honglian.lhl/anaconda3/lib/python3.7/site-packages/sklearn/datasets/data/boston_house_prices.csv'}"
      ]
     },
     "execution_count": 3,
     "metadata": {},
     "output_type": "execute_result"
    }
   ],
   "source": [
    "dataset"
   ]
  },
  {
   "cell_type": "code",
   "execution_count": 144,
   "metadata": {},
   "outputs": [],
   "source": [
    "x,y=dataset['data'],dataset['target']"
   ]
  },
  {
   "cell_type": "code",
   "execution_count": 6,
   "metadata": {},
   "outputs": [
    {
     "data": {
      "text/plain": [
       "(506, 13)"
      ]
     },
     "execution_count": 6,
     "metadata": {},
     "output_type": "execute_result"
    }
   ],
   "source": [
    "x.shape"
   ]
  },
  {
   "cell_type": "code",
   "execution_count": 7,
   "metadata": {},
   "outputs": [
    {
     "data": {
      "text/plain": [
       "(506,)"
      ]
     },
     "execution_count": 7,
     "metadata": {},
     "output_type": "execute_result"
    }
   ],
   "source": [
    "y.shape"
   ]
  },
  {
   "cell_type": "code",
   "execution_count": 8,
   "metadata": {},
   "outputs": [
    {
     "data": {
      "text/plain": [
       "array([6.320e-03, 1.800e+01, 2.310e+00, 0.000e+00, 5.380e-01, 6.575e+00,\n",
       "       6.520e+01, 4.090e+00, 1.000e+00, 2.960e+02, 1.530e+01, 3.969e+02,\n",
       "       4.980e+00])"
      ]
     },
     "execution_count": 8,
     "metadata": {},
     "output_type": "execute_result"
    }
   ],
   "source": [
    "x[0]"
   ]
  },
  {
   "cell_type": "code",
   "execution_count": 9,
   "metadata": {},
   "outputs": [
    {
     "data": {
      "text/plain": [
       "array([6.32000e-03, 2.73100e-02, 2.72900e-02, 3.23700e-02, 6.90500e-02,\n",
       "       2.98500e-02, 8.82900e-02, 1.44550e-01, 2.11240e-01, 1.70040e-01,\n",
       "       2.24890e-01, 1.17470e-01, 9.37800e-02, 6.29760e-01, 6.37960e-01,\n",
       "       6.27390e-01, 1.05393e+00, 7.84200e-01, 8.02710e-01, 7.25800e-01,\n",
       "       1.25179e+00, 8.52040e-01, 1.23247e+00, 9.88430e-01, 7.50260e-01,\n",
       "       8.40540e-01, 6.71910e-01, 9.55770e-01, 7.72990e-01, 1.00245e+00,\n",
       "       1.13081e+00, 1.35472e+00, 1.38799e+00, 1.15172e+00, 1.61282e+00,\n",
       "       6.41700e-02, 9.74400e-02, 8.01400e-02, 1.75050e-01, 2.76300e-02,\n",
       "       3.35900e-02, 1.27440e-01, 1.41500e-01, 1.59360e-01, 1.22690e-01,\n",
       "       1.71420e-01, 1.88360e-01, 2.29270e-01, 2.53870e-01, 2.19770e-01,\n",
       "       8.87300e-02, 4.33700e-02, 5.36000e-02, 4.98100e-02, 1.36000e-02,\n",
       "       1.31100e-02, 2.05500e-02, 1.43200e-02, 1.54450e-01, 1.03280e-01,\n",
       "       1.49320e-01, 1.71710e-01, 1.10270e-01, 1.26500e-01, 1.95100e-02,\n",
       "       3.58400e-02, 4.37900e-02, 5.78900e-02, 1.35540e-01, 1.28160e-01,\n",
       "       8.82600e-02, 1.58760e-01, 9.16400e-02, 1.95390e-01, 7.89600e-02,\n",
       "       9.51200e-02, 1.01530e-01, 8.70700e-02, 5.64600e-02, 8.38700e-02,\n",
       "       4.11300e-02, 4.46200e-02, 3.65900e-02, 3.55100e-02, 5.05900e-02,\n",
       "       5.73500e-02, 5.18800e-02, 7.15100e-02, 5.66000e-02, 5.30200e-02,\n",
       "       4.68400e-02, 3.93200e-02, 4.20300e-02, 2.87500e-02, 4.29400e-02,\n",
       "       1.22040e-01, 1.15040e-01, 1.20830e-01, 8.18700e-02, 6.86000e-02,\n",
       "       1.48660e-01, 1.14320e-01, 2.28760e-01, 2.11610e-01, 1.39600e-01,\n",
       "       1.32620e-01, 1.71200e-01, 1.31170e-01, 1.28020e-01, 2.63630e-01,\n",
       "       1.07930e-01, 1.00840e-01, 1.23290e-01, 2.22120e-01, 1.42310e-01,\n",
       "       1.71340e-01, 1.31580e-01, 1.50980e-01, 1.30580e-01, 1.44760e-01,\n",
       "       6.89900e-02, 7.16500e-02, 9.29900e-02, 1.50380e-01, 9.84900e-02,\n",
       "       1.69020e-01, 3.87350e-01, 2.59150e-01, 3.25430e-01, 8.81250e-01,\n",
       "       3.40060e-01, 1.19294e+00, 5.90050e-01, 3.29820e-01, 9.76170e-01,\n",
       "       5.57780e-01, 3.22640e-01, 3.52330e-01, 2.49800e-01, 5.44520e-01,\n",
       "       2.90900e-01, 1.62864e+00, 3.32105e+00, 4.09740e+00, 2.77974e+00,\n",
       "       2.37934e+00, 2.15505e+00, 2.36862e+00, 2.33099e+00, 2.73397e+00,\n",
       "       1.65660e+00, 1.49632e+00, 1.12658e+00, 2.14918e+00, 1.41385e+00,\n",
       "       3.53501e+00, 2.44668e+00, 1.22358e+00, 1.34284e+00, 1.42502e+00,\n",
       "       1.27346e+00, 1.46336e+00, 1.83377e+00, 1.51902e+00, 2.24236e+00,\n",
       "       2.92400e+00, 2.01019e+00, 1.80028e+00, 2.30040e+00, 2.44953e+00,\n",
       "       1.20742e+00, 2.31390e+00, 1.39140e-01, 9.17800e-02, 8.44700e-02,\n",
       "       6.66400e-02, 7.02200e-02, 5.42500e-02, 6.64200e-02, 5.78000e-02,\n",
       "       6.58800e-02, 6.88800e-02, 9.10300e-02, 1.00080e-01, 8.30800e-02,\n",
       "       6.04700e-02, 5.60200e-02, 7.87500e-02, 1.25790e-01, 8.37000e-02,\n",
       "       9.06800e-02, 6.91100e-02, 8.66400e-02, 2.18700e-02, 1.43900e-02,\n",
       "       1.38100e-02, 4.01100e-02, 4.66600e-02, 3.76800e-02, 3.15000e-02,\n",
       "       1.77800e-02, 3.44500e-02, 2.17700e-02, 3.51000e-02, 2.00900e-02,\n",
       "       1.36420e-01, 2.29690e-01, 2.51990e-01, 1.35870e-01, 4.35710e-01,\n",
       "       1.74460e-01, 3.75780e-01, 2.17190e-01, 1.40520e-01, 2.89550e-01,\n",
       "       1.98020e-01, 4.56000e-02, 7.01300e-02, 1.10690e-01, 1.14250e-01,\n",
       "       3.58090e-01, 4.07710e-01, 6.23560e-01, 6.14700e-01, 3.15330e-01,\n",
       "       5.26930e-01, 3.82140e-01, 4.12380e-01, 2.98190e-01, 4.41780e-01,\n",
       "       5.37000e-01, 4.62960e-01, 5.75290e-01, 3.31470e-01, 4.47910e-01,\n",
       "       3.30450e-01, 5.20580e-01, 5.11830e-01, 8.24400e-02, 9.25200e-02,\n",
       "       1.13290e-01, 1.06120e-01, 1.02900e-01, 1.27570e-01, 2.06080e-01,\n",
       "       1.91330e-01, 3.39830e-01, 1.96570e-01, 1.64390e-01, 1.90730e-01,\n",
       "       1.40300e-01, 2.14090e-01, 8.22100e-02, 3.68940e-01, 4.81900e-02,\n",
       "       3.54800e-02, 1.53800e-02, 6.11540e-01, 6.63510e-01, 6.56650e-01,\n",
       "       5.40110e-01, 5.34120e-01, 5.20140e-01, 8.25260e-01, 5.50070e-01,\n",
       "       7.61620e-01, 7.85700e-01, 5.78340e-01, 5.40500e-01, 9.06500e-02,\n",
       "       2.99160e-01, 1.62110e-01, 1.14600e-01, 2.21880e-01, 5.64400e-02,\n",
       "       9.60400e-02, 1.04690e-01, 6.12700e-02, 7.97800e-02, 2.10380e-01,\n",
       "       3.57800e-02, 3.70500e-02, 6.12900e-02, 1.50100e-02, 9.06000e-03,\n",
       "       1.09600e-02, 1.96500e-02, 3.87100e-02, 4.59000e-02, 4.29700e-02,\n",
       "       3.50200e-02, 7.88600e-02, 3.61500e-02, 8.26500e-02, 8.19900e-02,\n",
       "       1.29320e-01, 5.37200e-02, 1.41030e-01, 6.46600e-02, 5.56100e-02,\n",
       "       4.41700e-02, 3.53700e-02, 9.26600e-02, 1.00000e-01, 5.51500e-02,\n",
       "       5.47900e-02, 7.50300e-02, 4.93200e-02, 4.92980e-01, 3.49400e-01,\n",
       "       2.63548e+00, 7.90410e-01, 2.61690e-01, 2.69380e-01, 3.69200e-01,\n",
       "       2.53560e-01, 3.18270e-01, 2.45220e-01, 4.02020e-01, 4.75470e-01,\n",
       "       1.67600e-01, 1.81590e-01, 3.51140e-01, 2.83920e-01, 3.41090e-01,\n",
       "       1.91860e-01, 3.03470e-01, 2.41030e-01, 6.61700e-02, 6.72400e-02,\n",
       "       4.54400e-02, 5.02300e-02, 3.46600e-02, 5.08300e-02, 3.73800e-02,\n",
       "       3.96100e-02, 3.42700e-02, 3.04100e-02, 3.30600e-02, 5.49700e-02,\n",
       "       6.15100e-02, 1.30100e-02, 2.49800e-02, 2.54300e-02, 3.04900e-02,\n",
       "       3.11300e-02, 6.16200e-02, 1.87000e-02, 1.50100e-02, 2.89900e-02,\n",
       "       6.21100e-02, 7.95000e-02, 7.24400e-02, 1.70900e-02, 4.30100e-02,\n",
       "       1.06590e-01, 8.98296e+00, 3.84970e+00, 5.20177e+00, 4.26131e+00,\n",
       "       4.54192e+00, 3.83684e+00, 3.67822e+00, 4.22239e+00, 3.47428e+00,\n",
       "       4.55587e+00, 3.69695e+00, 1.35222e+01, 4.89822e+00, 5.66998e+00,\n",
       "       6.53876e+00, 9.23230e+00, 8.26725e+00, 1.11081e+01, 1.84982e+01,\n",
       "       1.96091e+01, 1.52880e+01, 9.82349e+00, 2.36482e+01, 1.78667e+01,\n",
       "       8.89762e+01, 1.58744e+01, 9.18702e+00, 7.99248e+00, 2.00849e+01,\n",
       "       1.68118e+01, 2.43938e+01, 2.25971e+01, 1.43337e+01, 8.15174e+00,\n",
       "       6.96215e+00, 5.29305e+00, 1.15779e+01, 8.64476e+00, 1.33598e+01,\n",
       "       8.71675e+00, 5.87205e+00, 7.67202e+00, 3.83518e+01, 9.91655e+00,\n",
       "       2.50461e+01, 1.42362e+01, 9.59571e+00, 2.48017e+01, 4.15292e+01,\n",
       "       6.79208e+01, 2.07162e+01, 1.19511e+01, 7.40389e+00, 1.44383e+01,\n",
       "       5.11358e+01, 1.40507e+01, 1.88110e+01, 2.86558e+01, 4.57461e+01,\n",
       "       1.80846e+01, 1.08342e+01, 2.59406e+01, 7.35341e+01, 1.18123e+01,\n",
       "       1.10874e+01, 7.02259e+00, 1.20482e+01, 7.05042e+00, 8.79212e+00,\n",
       "       1.58603e+01, 1.22472e+01, 3.76619e+01, 7.36711e+00, 9.33889e+00,\n",
       "       8.49213e+00, 1.00623e+01, 6.44405e+00, 5.58107e+00, 1.39134e+01,\n",
       "       1.11604e+01, 1.44208e+01, 1.51772e+01, 1.36781e+01, 9.39063e+00,\n",
       "       2.20511e+01, 9.72418e+00, 5.66637e+00, 9.96654e+00, 1.28023e+01,\n",
       "       1.06718e+01, 6.28807e+00, 9.92485e+00, 9.32909e+00, 7.52601e+00,\n",
       "       6.71772e+00, 5.44114e+00, 5.09017e+00, 8.24809e+00, 9.51363e+00,\n",
       "       4.75237e+00, 4.66883e+00, 8.20058e+00, 7.75223e+00, 6.80117e+00,\n",
       "       4.81213e+00, 3.69311e+00, 6.65492e+00, 5.82115e+00, 7.83932e+00,\n",
       "       3.16360e+00, 3.77498e+00, 4.42228e+00, 1.55757e+01, 1.30751e+01,\n",
       "       4.34879e+00, 4.03841e+00, 3.56868e+00, 4.64689e+00, 8.05579e+00,\n",
       "       6.39312e+00, 4.87141e+00, 1.50234e+01, 1.02330e+01, 1.43337e+01,\n",
       "       5.82401e+00, 5.70818e+00, 5.73116e+00, 2.81838e+00, 2.37857e+00,\n",
       "       3.67367e+00, 5.69175e+00, 4.83567e+00, 1.50860e-01, 1.83370e-01,\n",
       "       2.07460e-01, 1.05740e-01, 1.11320e-01, 1.73310e-01, 2.79570e-01,\n",
       "       1.78990e-01, 2.89600e-01, 2.68380e-01, 2.39120e-01, 1.77830e-01,\n",
       "       2.24380e-01, 6.26300e-02, 4.52700e-02, 6.07600e-02, 1.09590e-01,\n",
       "       4.74100e-02])"
      ]
     },
     "execution_count": 9,
     "metadata": {},
     "output_type": "execute_result"
    }
   ],
   "source": [
    "x[:,0]"
   ]
  },
  {
   "cell_type": "code",
   "execution_count": 5,
   "metadata": {},
   "outputs": [],
   "source": [
    "%matplotlib inline"
   ]
  },
  {
   "cell_type": "code",
   "execution_count": 6,
   "metadata": {},
   "outputs": [],
   "source": [
    "import matplotlib.pyplot as plt "
   ]
  },
  {
   "cell_type": "code",
   "execution_count": 7,
   "metadata": {},
   "outputs": [
    {
     "data": {
      "text/plain": [
       "<matplotlib.collections.PathCollection at 0x1a174d8978>"
      ]
     },
     "execution_count": 7,
     "metadata": {},
     "output_type": "execute_result"
    },
    {
     "data": {
      "image/png": "[encoded data removed]",
      "text/plain": [
       "<Figure size 432x288 with 1 Axes>"
      ]
     },
     "metadata": {
      "needs_background": "light"
     },
     "output_type": "display_data"
    }
   ],
   "source": [
    "plt.scatter(x[:,5],y)"
   ]
  },
  {
   "cell_type": "code",
   "execution_count": 145,
   "metadata": {},
   "outputs": [],
   "source": [
    "def price(rm,k,b):\n",
    "    return rm*k+b"
   ]
  },
  {
   "cell_type": "code",
   "execution_count": 14,
   "metadata": {},
   "outputs": [],
   "source": [
    "a = [1,2,3]"
   ]
  },
  {
   "cell_type": "code",
   "execution_count": 15,
   "metadata": {},
   "outputs": [],
   "source": [
    "b = [4,5,6]"
   ]
  },
  {
   "cell_type": "code",
   "execution_count": 16,
   "metadata": {},
   "outputs": [
    {
     "name": "stdout",
     "output_type": "stream",
     "text": [
      "(1, 4)\n",
      "(2, 5)\n",
      "(3, 6)\n"
     ]
    }
   ],
   "source": [
    "for i in zip(list(a),list(b)):\n",
    "    print(i)"
   ]
  },
  {
   "cell_type": "code",
   "execution_count": 17,
   "metadata": {},
   "outputs": [
    {
     "data": {
      "text/plain": [
       "6"
      ]
     },
     "execution_count": 17,
     "metadata": {},
     "output_type": "execute_result"
    }
   ],
   "source": [
    "sum((1,2,3))"
   ]
  },
  {
   "cell_type": "code",
   "execution_count": 9,
   "metadata": {},
   "outputs": [],
   "source": [
    "def loss(y,y_hat):\n",
    "    return sum((y_i-y_hat_i)**2 for y_i,y_hat_i in zip(list(y),list(y_hat)))/len(y)"
   ]
  },
  {
   "cell_type": "markdown",
   "metadata": {},
   "source": [
    "# First method：Randomly Choose k and b"
   ]
  },
  {
   "cell_type": "code",
   "execution_count": 10,
   "metadata": {},
   "outputs": [],
   "source": [
    "import random"
   ]
  },
  {
   "cell_type": "code",
   "execution_count": 146,
   "metadata": {},
   "outputs": [],
   "source": [
    "x_rm=x[:,5]"
   ]
  },
  {
   "cell_type": "code",
   "execution_count": 147,
   "metadata": {},
   "outputs": [
    {
     "data": {
      "text/plain": [
       "array([6.575, 6.421, 7.185, 6.998, 7.147, 6.43 , 6.012, 6.172, 5.631,\n",
       "       6.004, 6.377, 6.009, 5.889, 5.949, 6.096, 5.834, 5.935, 5.99 ,\n",
       "       5.456, 5.727, 5.57 , 5.965, 6.142, 5.813, 5.924, 5.599, 5.813,\n",
       "       6.047, 6.495, 6.674, 5.713, 6.072, 5.95 , 5.701, 6.096, 5.933,\n",
       "       5.841, 5.85 , 5.966, 6.595, 7.024, 6.77 , 6.169, 6.211, 6.069,\n",
       "       5.682, 5.786, 6.03 , 5.399, 5.602, 5.963, 6.115, 6.511, 5.998,\n",
       "       5.888, 7.249, 6.383, 6.816, 6.145, 5.927, 5.741, 5.966, 6.456,\n",
       "       6.762, 7.104, 6.29 , 5.787, 5.878, 5.594, 5.885, 6.417, 5.961,\n",
       "       6.065, 6.245, 6.273, 6.286, 6.279, 6.14 , 6.232, 5.874, 6.727,\n",
       "       6.619, 6.302, 6.167, 6.389, 6.63 , 6.015, 6.121, 7.007, 7.079,\n",
       "       6.417, 6.405, 6.442, 6.211, 6.249, 6.625, 6.163, 8.069, 7.82 ,\n",
       "       7.416, 6.727, 6.781, 6.405, 6.137, 6.167, 5.851, 5.836, 6.127,\n",
       "       6.474, 6.229, 6.195, 6.715, 5.913, 6.092, 6.254, 5.928, 6.176,\n",
       "       6.021, 5.872, 5.731, 5.87 , 6.004, 5.961, 5.856, 5.879, 5.986,\n",
       "       5.613, 5.693, 6.431, 5.637, 6.458, 6.326, 6.372, 5.822, 5.757,\n",
       "       6.335, 5.942, 6.454, 5.857, 6.151, 6.174, 5.019, 5.403, 5.468,\n",
       "       4.903, 6.13 , 5.628, 4.926, 5.186, 5.597, 6.122, 5.404, 5.012,\n",
       "       5.709, 6.129, 6.152, 5.272, 6.943, 6.066, 6.51 , 6.25 , 7.489,\n",
       "       7.802, 8.375, 5.854, 6.101, 7.929, 5.877, 6.319, 6.402, 5.875,\n",
       "       5.88 , 5.572, 6.416, 5.859, 6.546, 6.02 , 6.315, 6.86 , 6.98 ,\n",
       "       7.765, 6.144, 7.155, 6.563, 5.604, 6.153, 7.831, 6.782, 6.556,\n",
       "       7.185, 6.951, 6.739, 7.178, 6.8  , 6.604, 7.875, 7.287, 7.107,\n",
       "       7.274, 6.975, 7.135, 6.162, 7.61 , 7.853, 8.034, 5.891, 6.326,\n",
       "       5.783, 6.064, 5.344, 5.96 , 5.404, 5.807, 6.375, 5.412, 6.182,\n",
       "       5.888, 6.642, 5.951, 6.373, 6.951, 6.164, 6.879, 6.618, 8.266,\n",
       "       8.725, 8.04 , 7.163, 7.686, 6.552, 5.981, 7.412, 8.337, 8.247,\n",
       "       6.726, 6.086, 6.631, 7.358, 6.481, 6.606, 6.897, 6.095, 6.358,\n",
       "       6.393, 5.593, 5.605, 6.108, 6.226, 6.433, 6.718, 6.487, 6.438,\n",
       "       6.957, 8.259, 6.108, 5.876, 7.454, 8.704, 7.333, 6.842, 7.203,\n",
       "       7.52 , 8.398, 7.327, 7.206, 5.56 , 7.014, 8.297, 7.47 , 5.92 ,\n",
       "       5.856, 6.24 , 6.538, 7.691, 6.758, 6.854, 7.267, 6.826, 6.482,\n",
       "       6.812, 7.82 , 6.968, 7.645, 7.923, 7.088, 6.453, 6.23 , 6.209,\n",
       "       6.315, 6.565, 6.861, 7.148, 6.63 , 6.127, 6.009, 6.678, 6.549,\n",
       "       5.79 , 6.345, 7.041, 6.871, 6.59 , 6.495, 6.982, 7.236, 6.616,\n",
       "       7.42 , 6.849, 6.635, 5.972, 4.973, 6.122, 6.023, 6.266, 6.567,\n",
       "       5.705, 5.914, 5.782, 6.382, 6.113, 6.426, 6.376, 6.041, 5.708,\n",
       "       6.415, 6.431, 6.312, 6.083, 5.868, 6.333, 6.144, 5.706, 6.031,\n",
       "       6.316, 6.31 , 6.037, 5.869, 5.895, 6.059, 5.985, 5.968, 7.241,\n",
       "       6.54 , 6.696, 6.874, 6.014, 5.898, 6.516, 6.635, 6.939, 6.49 ,\n",
       "       6.579, 5.884, 6.728, 5.663, 5.936, 6.212, 6.395, 6.127, 6.112,\n",
       "       6.398, 6.251, 5.362, 5.803, 8.78 , 3.561, 4.963, 3.863, 4.97 ,\n",
       "       6.683, 7.016, 6.216, 5.875, 4.906, 4.138, 7.313, 6.649, 6.794,\n",
       "       6.38 , 6.223, 6.968, 6.545, 5.536, 5.52 , 4.368, 5.277, 4.652,\n",
       "       5.   , 4.88 , 5.39 , 5.713, 6.051, 5.036, 6.193, 5.887, 6.471,\n",
       "       6.405, 5.747, 5.453, 5.852, 5.987, 6.343, 6.404, 5.349, 5.531,\n",
       "       5.683, 4.138, 5.608, 5.617, 6.852, 5.757, 6.657, 4.628, 5.155,\n",
       "       4.519, 6.434, 6.782, 5.304, 5.957, 6.824, 6.411, 6.006, 5.648,\n",
       "       6.103, 5.565, 5.896, 5.837, 6.202, 6.193, 6.38 , 6.348, 6.833,\n",
       "       6.425, 6.436, 6.208, 6.629, 6.461, 6.152, 5.935, 5.627, 5.818,\n",
       "       6.406, 6.219, 6.485, 5.854, 6.459, 6.341, 6.251, 6.185, 6.417,\n",
       "       6.749, 6.655, 6.297, 7.393, 6.728, 6.525, 5.976, 5.936, 6.301,\n",
       "       6.081, 6.701, 6.376, 6.317, 6.513, 6.209, 5.759, 5.952, 6.003,\n",
       "       5.926, 5.713, 6.167, 6.229, 6.437, 6.98 , 5.427, 6.162, 6.484,\n",
       "       5.304, 6.185, 6.229, 6.242, 6.75 , 7.061, 5.762, 5.871, 6.312,\n",
       "       6.114, 5.905, 5.454, 5.414, 5.093, 5.983, 5.983, 5.707, 5.926,\n",
       "       5.67 , 5.39 , 5.794, 6.019, 5.569, 6.027, 6.593, 6.12 , 6.976,\n",
       "       6.794, 6.03 ])"
      ]
     },
     "execution_count": 147,
     "metadata": {},
     "output_type": "execute_result"
    }
   ],
   "source": [
    "x_rm"
   ]
  },
  {
   "cell_type": "code",
   "execution_count": 42,
   "metadata": {},
   "outputs": [
    {
     "name": "stdout",
     "output_type": "stream",
     "text": [
      "when time is:0,k is :-77.16356927831451,b is:-12.698977187912973,the loss is 274293.8234896394:\n",
      "when time is:1,k is :29.543394654878682,b is:-2.612277451454048,the loss is 26017.538360310704:\n",
      "when time is:2,k is :8.279295060742541,b is:-8.01725467822287,the loss is 505.42253348349675:\n",
      "when time is:21,k is :15.42593516455426,b is:-61.472822227893545,the loss is 230.76641408229477:\n",
      "when time is:86,k is :1.7047841621278508,b is:4.69988807082548,the loss is 121.24081599383776:\n",
      "when time is:454,k is :2.290242549158421,b is:12.858318476562118,the loss is 88.7298988857341:\n",
      "when time is:461,k is :15.893746180222308,b is:-73.08831117781622,the loss is 84.51927327048875:\n",
      "when time is:803,k is :14.654075623670423,b is:-69.13152039344098,the loss is 58.97347041154456:\n",
      "when time is:1372,k is :6.389329429593872,b is:-19.653783669427966,the loss is 51.35536663940779:\n",
      "when time is:1393,k is :11.721070032808,b is:-52.381934881597616,the loss is 48.547685036135995:\n"
     ]
    }
   ],
   "source": [
    "trying_times=2000\n",
    "min_loss=float('inf')\n",
    "best_k,best_b=None,None\n",
    "\n",
    "for i in range(trying_times):\n",
    "    k=random.random()*200-100\n",
    "    b=random.random()*200-100\n",
    "    price_rm_k_and_b=[price(rm,k,b) for rm in x_rm]\n",
    "    current_loss=loss(y,price_rm_k_and_b)\n",
    "    \n",
    "    if current_loss<min_loss:\n",
    "        min_loss=current_loss\n",
    "        best_k=k\n",
    "        best_b=b\n",
    "        print ('when time is:{},k is :{},b is:{},the loss is {}:'.format(i,best_k,best_b,min_loss))"
   ]
  },
  {
   "cell_type": "code",
   "execution_count": 38,
   "metadata": {},
   "outputs": [],
   "source": [
    "price_rm_k_and_b=[price(rm,11.822363579884978,-52.891542025003304) for rm in x_rm]"
   ]
  },
  {
   "cell_type": "code",
   "execution_count": 39,
   "metadata": {},
   "outputs": [
    {
     "data": {
      "text/plain": [
       "<matplotlib.collections.PathCollection at 0x1a210562e8>"
      ]
     },
     "execution_count": 39,
     "metadata": {},
     "output_type": "execute_result"
    },
    {
     "data": {
      "image/png": "[encoded data removed]",
      "text/plain": [
       "<Figure size 432x288 with 1 Axes>"
      ]
     },
     "metadata": {
      "needs_background": "light"
     },
     "output_type": "display_data"
    }
   ],
   "source": [
    "plt.scatter(x_rm,y)\n",
    "plt.scatter(x_rm,price_rm_k_and_b)"
   ]
  },
  {
   "cell_type": "markdown",
   "metadata": {},
   "source": [
    "# Second method：Supervised Direction to get k and b"
   ]
  },
  {
   "cell_type": "code",
   "execution_count": 67,
   "metadata": {},
   "outputs": [
    {
     "name": "stdout",
     "output_type": "stream",
     "text": [
      "the time is:9,k is -12.40171480065607,b is -11.407903310921608,the loss is 12788.777562146606:\n",
      "the time is:19,k is -11.401714800656073,b is -12.407903310921604,the loss is 11613.508093436416:\n",
      "the time is:29,k is -10.401714800656077,b is -13.4079033109216,the loss is 10495.07873637444:\n",
      "the time is:39,k is -9.40171480065608,b is -14.407903310921597,the loss is 9433.489490960686:\n",
      "the time is:49,k is -8.401714800656084,b is -15.407903310921593,the loss is 8428.740357195162:\n",
      "the time is:59,k is -7.401714800656087,b is -16.407903310921597,the loss is 7480.831335077849:\n",
      "the time is:69,k is -6.401714800656091,b is -17.40790331092161,the loss is 6589.762424608757:\n",
      "the time is:79,k is -5.401714800656094,b is -18.407903310921625,the loss is 5755.533625787888:\n",
      "the time is:89,k is -4.401714800656098,b is -19.40790331092164,the loss is 4978.144938615255:\n",
      "the time is:99,k is -3.401714800656099,b is -20.407903310921654,the loss is 4257.59636309082:\n",
      "the time is:109,k is -2.401714800656098,b is -21.407903310921668,the loss is 3593.887899214616:\n",
      "the time is:119,k is -1.401714800656097,b is -22.407903310921682,the loss is 2987.019546986629:\n",
      "the time is:129,k is -0.4017148006560969,b is -23.407903310921697,the loss is 2436.9913064068614:\n",
      "the time is:139,k is 0.5982851993439031,b is -24.40790331092171,the loss is 1943.8031774753183:\n",
      "the time is:149,k is 1.5982851993439036,b is -25.407903310921725,the loss is 1507.4551601919966:\n",
      "the time is:159,k is 2.5982851993439042,b is -26.40790331092174,the loss is 1127.9472545568965:\n",
      "the time is:169,k is 3.598285199343905,b is -27.407903310921753,the loss is 805.2794605700146:\n",
      "the time is:179,k is 4.598285199343904,b is -28.407903310921768,the loss is 539.4517782313563:\n",
      "the time is:189,k is 5.5982851993439,b is -29.407903310921782,the loss is 330.4642075409192:\n",
      "the time is:199,k is 6.598285199343897,b is -30.407903310921796,the loss is 178.31674849870222:\n",
      "the time is:209,k is 7.598285199343893,b is -31.40790331092181,the loss is 83.00940110470604:\n",
      "the time is:219,k is 8.59828519934389,b is -32.407903310921824,the loss is 44.54216535893032:\n"
     ]
    }
   ],
   "source": [
    "trying_times=2000\n",
    "min_loss=float('inf')\n",
    "direction=[(1,1),\n",
    "          (1,-1),\n",
    "          (-1,1),\n",
    "          (-1,-1)]\n",
    "k_direction,b_direction=random.choice(direction)\n",
    "scaler=0.1\n",
    "best_k=random.random()*200-100\n",
    "best_b=random.random()*200-100\n",
    "\n",
    "update_time=0\n",
    "  \n",
    "for i in range(trying_times):\n",
    "    current_k,current_b=best_k+scaler*k_direction,best_b+scaler*b_direction\n",
    "    price_rm_k_and_b=[price(rm,current_k,current_b) for rm in x_rm]\n",
    "    \n",
    "    current_loss=loss(y,price_rm_k_and_b)\n",
    "    \n",
    "    if current_loss<min_loss:\n",
    "        min_loss=current_loss\n",
    "        best_k,best_b=current_k,current_b\n",
    "        update_time+=1\n",
    "        if update_time%10==0:\n",
    "            print(\"the time is:{},k is {},b is {},the loss is {}:\".format(i,best_k,best_b,min_loss))\n",
    "    else:\n",
    "        k_direction,b_direction=random.choice(direction)\n",
    "        "
   ]
  },
  {
   "cell_type": "code",
   "execution_count": 68,
   "metadata": {},
   "outputs": [
    {
     "data": {
      "text/plain": [
       "(8.798285199343889, -32.60790331092183)"
      ]
     },
     "execution_count": 68,
     "metadata": {},
     "output_type": "execute_result"
    }
   ],
   "source": [
    "best_k,best_b"
   ]
  },
  {
   "cell_type": "code",
   "execution_count": 69,
   "metadata": {},
   "outputs": [
    {
     "data": {
      "text/plain": [
       "<matplotlib.collections.PathCollection at 0x1a21082198>"
      ]
     },
     "execution_count": 69,
     "metadata": {},
     "output_type": "execute_result"
    },
    {
     "data": {
      "image/png": "[encoded data removed]",
      "text/plain": [
       "<Figure size 432x288 with 1 Axes>"
      ]
     },
     "metadata": {
      "needs_background": "light"
     },
     "output_type": "display_data"
    }
   ],
   "source": [
    "plt.scatter(x_rm,y)\n",
    "plt.scatter(x_rm,price_rm_k_and_b)"
   ]
  },
  {
   "cell_type": "markdown",
   "metadata": {},
   "source": [
    "# Third method：Gradient Descent to get k and b"
   ]
  },
  {
   "cell_type": "code",
   "execution_count": 77,
   "metadata": {},
   "outputs": [],
   "source": [
    "def partial_k(x,y,y_hat):\n",
    "    n=len(y)\n",
    "    gradient= sum((y_i-y_hat_i)*x_i for x_i,y_i,y_hat_i in zip(x,y,y_hat))\n",
    "    \n",
    "    return -2/n*gradient\n",
    "\n",
    "def partial_b(y,y_hat):\n",
    "    n=len(y)\n",
    "    gradient=sum((y_i-y_hat_i)for y_i,y_hat_i in zip(y,y_hat))\n",
    "    \n",
    "    return -2/n*gradient"
   ]
  },
  {
   "cell_type": "code",
   "execution_count": 79,
   "metadata": {},
   "outputs": [
    {
     "data": {
      "text/plain": [
       "array([6.575, 6.421, 7.185, 6.998, 7.147, 6.43 , 6.012, 6.172, 5.631,\n",
       "       6.004, 6.377, 6.009, 5.889, 5.949, 6.096, 5.834, 5.935, 5.99 ,\n",
       "       5.456, 5.727, 5.57 , 5.965, 6.142, 5.813, 5.924, 5.599, 5.813,\n",
       "       6.047, 6.495, 6.674, 5.713, 6.072, 5.95 , 5.701, 6.096, 5.933,\n",
       "       5.841, 5.85 , 5.966, 6.595, 7.024, 6.77 , 6.169, 6.211, 6.069,\n",
       "       5.682, 5.786, 6.03 , 5.399, 5.602, 5.963, 6.115, 6.511, 5.998,\n",
       "       5.888, 7.249, 6.383, 6.816, 6.145, 5.927, 5.741, 5.966, 6.456,\n",
       "       6.762, 7.104, 6.29 , 5.787, 5.878, 5.594, 5.885, 6.417, 5.961,\n",
       "       6.065, 6.245, 6.273, 6.286, 6.279, 6.14 , 6.232, 5.874, 6.727,\n",
       "       6.619, 6.302, 6.167, 6.389, 6.63 , 6.015, 6.121, 7.007, 7.079,\n",
       "       6.417, 6.405, 6.442, 6.211, 6.249, 6.625, 6.163, 8.069, 7.82 ,\n",
       "       7.416, 6.727, 6.781, 6.405, 6.137, 6.167, 5.851, 5.836, 6.127,\n",
       "       6.474, 6.229, 6.195, 6.715, 5.913, 6.092, 6.254, 5.928, 6.176,\n",
       "       6.021, 5.872, 5.731, 5.87 , 6.004, 5.961, 5.856, 5.879, 5.986,\n",
       "       5.613, 5.693, 6.431, 5.637, 6.458, 6.326, 6.372, 5.822, 5.757,\n",
       "       6.335, 5.942, 6.454, 5.857, 6.151, 6.174, 5.019, 5.403, 5.468,\n",
       "       4.903, 6.13 , 5.628, 4.926, 5.186, 5.597, 6.122, 5.404, 5.012,\n",
       "       5.709, 6.129, 6.152, 5.272, 6.943, 6.066, 6.51 , 6.25 , 7.489,\n",
       "       7.802, 8.375, 5.854, 6.101, 7.929, 5.877, 6.319, 6.402, 5.875,\n",
       "       5.88 , 5.572, 6.416, 5.859, 6.546, 6.02 , 6.315, 6.86 , 6.98 ,\n",
       "       7.765, 6.144, 7.155, 6.563, 5.604, 6.153, 7.831, 6.782, 6.556,\n",
       "       7.185, 6.951, 6.739, 7.178, 6.8  , 6.604, 7.875, 7.287, 7.107,\n",
       "       7.274, 6.975, 7.135, 6.162, 7.61 , 7.853, 8.034, 5.891, 6.326,\n",
       "       5.783, 6.064, 5.344, 5.96 , 5.404, 5.807, 6.375, 5.412, 6.182,\n",
       "       5.888, 6.642, 5.951, 6.373, 6.951, 6.164, 6.879, 6.618, 8.266,\n",
       "       8.725, 8.04 , 7.163, 7.686, 6.552, 5.981, 7.412, 8.337, 8.247,\n",
       "       6.726, 6.086, 6.631, 7.358, 6.481, 6.606, 6.897, 6.095, 6.358,\n",
       "       6.393, 5.593, 5.605, 6.108, 6.226, 6.433, 6.718, 6.487, 6.438,\n",
       "       6.957, 8.259, 6.108, 5.876, 7.454, 8.704, 7.333, 6.842, 7.203,\n",
       "       7.52 , 8.398, 7.327, 7.206, 5.56 , 7.014, 8.297, 7.47 , 5.92 ,\n",
       "       5.856, 6.24 , 6.538, 7.691, 6.758, 6.854, 7.267, 6.826, 6.482,\n",
       "       6.812, 7.82 , 6.968, 7.645, 7.923, 7.088, 6.453, 6.23 , 6.209,\n",
       "       6.315, 6.565, 6.861, 7.148, 6.63 , 6.127, 6.009, 6.678, 6.549,\n",
       "       5.79 , 6.345, 7.041, 6.871, 6.59 , 6.495, 6.982, 7.236, 6.616,\n",
       "       7.42 , 6.849, 6.635, 5.972, 4.973, 6.122, 6.023, 6.266, 6.567,\n",
       "       5.705, 5.914, 5.782, 6.382, 6.113, 6.426, 6.376, 6.041, 5.708,\n",
       "       6.415, 6.431, 6.312, 6.083, 5.868, 6.333, 6.144, 5.706, 6.031,\n",
       "       6.316, 6.31 , 6.037, 5.869, 5.895, 6.059, 5.985, 5.968, 7.241,\n",
       "       6.54 , 6.696, 6.874, 6.014, 5.898, 6.516, 6.635, 6.939, 6.49 ,\n",
       "       6.579, 5.884, 6.728, 5.663, 5.936, 6.212, 6.395, 6.127, 6.112,\n",
       "       6.398, 6.251, 5.362, 5.803, 8.78 , 3.561, 4.963, 3.863, 4.97 ,\n",
       "       6.683, 7.016, 6.216, 5.875, 4.906, 4.138, 7.313, 6.649, 6.794,\n",
       "       6.38 , 6.223, 6.968, 6.545, 5.536, 5.52 , 4.368, 5.277, 4.652,\n",
       "       5.   , 4.88 , 5.39 , 5.713, 6.051, 5.036, 6.193, 5.887, 6.471,\n",
       "       6.405, 5.747, 5.453, 5.852, 5.987, 6.343, 6.404, 5.349, 5.531,\n",
       "       5.683, 4.138, 5.608, 5.617, 6.852, 5.757, 6.657, 4.628, 5.155,\n",
       "       4.519, 6.434, 6.782, 5.304, 5.957, 6.824, 6.411, 6.006, 5.648,\n",
       "       6.103, 5.565, 5.896, 5.837, 6.202, 6.193, 6.38 , 6.348, 6.833,\n",
       "       6.425, 6.436, 6.208, 6.629, 6.461, 6.152, 5.935, 5.627, 5.818,\n",
       "       6.406, 6.219, 6.485, 5.854, 6.459, 6.341, 6.251, 6.185, 6.417,\n",
       "       6.749, 6.655, 6.297, 7.393, 6.728, 6.525, 5.976, 5.936, 6.301,\n",
       "       6.081, 6.701, 6.376, 6.317, 6.513, 6.209, 5.759, 5.952, 6.003,\n",
       "       5.926, 5.713, 6.167, 6.229, 6.437, 6.98 , 5.427, 6.162, 6.484,\n",
       "       5.304, 6.185, 6.229, 6.242, 6.75 , 7.061, 5.762, 5.871, 6.312,\n",
       "       6.114, 5.905, 5.454, 5.414, 5.093, 5.983, 5.983, 5.707, 5.926,\n",
       "       5.67 , 5.39 , 5.794, 6.019, 5.569, 6.027, 6.593, 6.12 , 6.976,\n",
       "       6.794, 6.03 ])"
      ]
     },
     "execution_count": 79,
     "metadata": {},
     "output_type": "execute_result"
    }
   ],
   "source": [
    "x_rm"
   ]
  },
  {
   "cell_type": "code",
   "execution_count": 101,
   "metadata": {},
   "outputs": [
    {
     "name": "stdout",
     "output_type": "stream",
     "text": [
      "the time is:49,k is 8.060867692060675,b is -28.047162059797476,the loss is 44.14106595267259\n",
      "the time is:99,k is 8.073313698126249,b is -28.12633257312978,the loss is 44.12822159598635\n",
      "the time is:149,k is 8.085610936496376,b is -28.204556757595324,the loss is 44.11568246255668\n",
      "the time is:199,k is 8.097761185398317,b is -28.281845924707543,the loss is 44.103441299296534\n",
      "the time is:249,k is 8.10976620180409,b is -28.358211250772808,the loss is 44.091491025475584\n",
      "the time is:299,k is 8.121627721684547,b is -28.433663778506553,the loss is 44.07982472862462\n",
      "the time is:349,k is 8.133347460260397,b is -28.508214418630146,the loss is 44.06843566053671\n",
      "the time is:399,k is 8.144927112250244,b is -28.581873951448575,the loss is 44.057317233364145\n",
      "the time is:449,k is 8.156368352115628,b is -28.654653028409342,the loss is 44.0464630158077\n",
      "the time is:499,k is 8.16767283430318,b is -28.72656217364269,the loss is 44.03586672939647\n",
      "the time is:549,k is 8.178842193483856,b is -28.797611785483458,the loss is 44.02552224485626\n",
      "the time is:599,k is 8.1898780447893,b is -28.867812137974664,the loss is 44.01542357856414\n",
      "the time is:649,k is 8.20078198404542,b is -28.937173382353237,the loss is 44.005564889087346\n",
      "the time is:699,k is 8.211555588003145,b is -29.00570554851787,the loss is 43.99594047380437\n",
      "the time is:749,k is 8.222200414566421,b is -29.07341854647944,the loss is 43.98654476560619\n",
      "the time is:799,k is 8.232718003017494,b is -29.14032216779396,the loss is 43.977372329676506\n",
      "the time is:849,k is 8.243109874239504,b is -29.20642608697856,the loss is 43.968417860347486\n",
      "the time is:899,k is 8.253377530936392,b is -29.271739862910348,the loss is 43.959676178031145\n",
      "the time is:949,k is 8.263522457850218,b is -29.336272940208776,the loss is 43.95114222622318\n",
      "the time is:999,k is 8.27354612197585,b is -29.400034650601302,the loss is 43.942811068578116\n",
      "the time is:1049,k is 8.28344997277309,b is -29.463034214272806,the loss is 43.93467788605389\n",
      "the time is:1099,k is 8.293235442376282,b is -29.525280741198856,the loss is 43.92673797412443\n",
      "the time is:1149,k is 8.30290394580141,b is -29.586783232463077,the loss is 43.91898674005837\n",
      "the time is:1199,k is 8.312456881150691,b is -29.647550581558704,the loss is 43.911419700262236\n",
      "the time is:1249,k is 8.321895629814769,b is -29.707591575674606,the loss is 43.90403247768748\n",
      "the time is:1299,k is 8.331221556672459,b is -29.76691489696601,the loss is 43.89682079929808\n",
      "the time is:1349,k is 8.340436010288116,b is -29.825529123809925,the loss is 43.88978049359919\n",
      "the time is:1399,k is 8.349540323106638,b is -29.88344273204559,the loss is 43.88290748822409\n",
      "the time is:1449,k is 8.358535811646153,b is -29.940664096200166,the loss is 43.87619780757858\n",
      "the time is:1499,k is 8.367423776688382,b is -29.997201490699695,the loss is 43.869647570541424\n",
      "the time is:1549,k is 8.376205503466739,b is -30.053063091065592,the loss is 43.86325298821928\n",
      "the time is:1599,k is 8.384882261852185,b is -30.108256975096896,the loss is 43.85701036175517\n",
      "the time is:1649,k is 8.393455306536861,b is -30.162791124038375,the loss is 43.85091608018873\n",
      "the time is:1699,k is 8.401925877215497,b is -30.216673423734505,the loss is 43.84496661836775\n",
      "the time is:1749,k is 8.41029519876471,b is -30.269911665770003,the loss is 43.839158534908954\n",
      "the time is:1799,k is 8.418564481420097,b is -30.322513548596323,the loss is 43.833488470207406\n",
      "the time is:1849,k is 8.426734920951263,b is -30.374486678645027,the loss is 43.82795314449324\n",
      "the time is:1899,k is 8.434807698834714,b is -30.425838571427583,the loss is 43.82254935593438\n",
      "the time is:1949,k is 8.442783982424718,b is -30.47657665262227,the loss is 43.81727397878465\n",
      "the time is:1999,k is 8.450664925122094,b is -30.52670825914781,the loss is 43.812123961575644\n"
     ]
    }
   ],
   "source": [
    "trying_times=2000\n",
    "min_loss=float('inf')\n",
    "\n",
    "k=random.random()*200-100\n",
    "b=random.random()*200-100\n",
    "\n",
    "learning_rate=1e-02\n",
    "\n",
    "update_time=0\n",
    "\n",
    "for i in range(trying_times):\n",
    "    price_rm_k_and_b=[price(rm,k,b) for rm in x_rm]\n",
    "    current_loss=loss(y,price_rm_k_and_b)\n",
    "    \n",
    "    if current_loss<min_loss:\n",
    "        min_loss=current_loss\n",
    "        update_time+=1\n",
    "        if update_time%50==0:\n",
    "            print('the time is:{},k is {},b is {},the loss is {}'.format(i,k,b,min_loss))\n",
    "    k,b =k-learning_rate*partial_k(x_rm,y,price_rm_k_and_b),b-learning_rate*partial_b(y,price_rm_k_and_b)\n",
    "    \n",
    "    "
   ]
  },
  {
   "cell_type": "code",
   "execution_count": 103,
   "metadata": {},
   "outputs": [
    {
     "data": {
      "text/plain": [
       "(8.450821579348837, -30.527704755170838)"
      ]
     },
     "execution_count": 103,
     "metadata": {},
     "output_type": "execute_result"
    }
   ],
   "source": [
    "k,b"
   ]
  },
  {
   "cell_type": "code",
   "execution_count": 102,
   "metadata": {},
   "outputs": [
    {
     "data": {
      "text/plain": [
       "<matplotlib.collections.PathCollection at 0x1a2117fba8>"
      ]
     },
     "execution_count": 102,
     "metadata": {},
     "output_type": "execute_result"
    },
    {
     "data": {
      "image/png": "[encoded data removed]",
      "text/plain": [
       "<Figure size 432x288 with 1 Axes>"
      ]
     },
     "metadata": {
      "needs_background": "light"
     },
     "output_type": "display_data"
    }
   ],
   "source": [
    "\n",
    "plt.scatter(x_rm,y)\n",
    "plt.scatter(x_rm,price_rm_k_and_b)"
   ]
  },
  {
   "cell_type": "markdown",
   "metadata": {},
   "source": [
    "# Try different Loss function and learning rate"
   ]
  },
  {
   "cell_type": "markdown",
   "metadata": {},
   "source": [
    "loss=1/n*sum(|y-y_hat|)"
   ]
  },
  {
   "cell_type": "code",
   "execution_count": 148,
   "metadata": {},
   "outputs": [],
   "source": [
    "def loss(y,y_hat):\n",
    "    return sum(abs(y_i-y_hat_i) for y_i,y_hat_i in zip(list(y),list(y_hat)))/len(y)"
   ]
  },
  {
   "cell_type": "code",
   "execution_count": 149,
   "metadata": {},
   "outputs": [],
   "source": [
    "def partial_k(x_rm,y,y_hat):\n",
    "    n=len(y)\n",
    "    gradient=0\n",
    "    for x_i,y_i,y_hat_i in zip(x_rm,y,y_hat):\n",
    "        gradient+=(y_hat_i-y_i)/abs(y_hat_i-y_i)*x_i\n",
    "        \n",
    "    return gradient/n\n",
    "\n",
    "def partial_b(y,y_hat):\n",
    "    n=len(y)\n",
    "    gradient=0\n",
    "    for y_i,y_hat_i in zip(y,y_hat):\n",
    "        gradient+=(y_hat_i-y_i)/abs(y_hat_i-y_i)\n",
    "    \n",
    "    return gradient/n"
   ]
  },
  {
   "cell_type": "code",
   "execution_count": 154,
   "metadata": {},
   "outputs": [
    {
     "name": "stdout",
     "output_type": "stream",
     "text": [
      "the time is:49,k is -62.01992726237816,b is -74.11758044371793,the loss is 486.42295434202646\n",
      "the time is:99,k is -58.877610068702324,b is -73.61758044371767,the loss is 466.1746396506845\n",
      "the time is:149,k is -55.73529287502649,b is -73.11758044371742,the loss is 445.9263249593422\n",
      "the time is:199,k is -52.59297568135065,b is -72.61758044371716,the loss is 425.67801026799947\n",
      "the time is:249,k is -49.450658487674815,b is -72.1175804437169,the loss is 405.4296955766576\n",
      "the time is:299,k is -46.30834129399898,b is -71.61758044371665,the loss is 385.18138088531543\n",
      "the time is:349,k is -43.16602410032314,b is -71.11758044371639,the loss is 364.9330661939734\n",
      "the time is:399,k is -40.023706906647305,b is -70.61758044371614,the loss is 344.68475150263146\n",
      "the time is:449,k is -36.88138971297147,b is -70.11758044371588,the loss is 324.43643681128884\n",
      "the time is:499,k is -33.73907251929563,b is -69.61758044371562,the loss is 304.1881221199469\n",
      "the time is:549,k is -30.596755325619796,b is -69.11758044371537,the loss is 283.9398074286049\n",
      "the time is:599,k is -27.45443813194396,b is -68.61758044371511,the loss is 263.6914927372629\n",
      "the time is:649,k is -24.312120938268123,b is -68.11758044371486,the loss is 243.44317804592075\n",
      "the time is:699,k is -21.169803744592286,b is -67.6175804437146,the loss is 223.19486335457842\n",
      "the time is:749,k is -18.02748655091645,b is -67.11758044371435,the loss is 202.94654866323626\n",
      "the time is:799,k is -14.885169357240581,b is -66.61758044371409,the loss is 182.69823397189387\n",
      "the time is:849,k is -11.742852163564656,b is -66.11758044371383,the loss is 162.44991928055106\n",
      "the time is:899,k is -8.60053496988873,b is -65.61758044371358,the loss is 142.20160458920842\n",
      "the time is:949,k is -5.458217776212842,b is -65.11758044371332,the loss is 121.95328989786607\n",
      "the time is:999,k is -2.315900582536949,b is -64.61758044371307,the loss is 101.70497520652343\n",
      "the time is:1049,k is 0.8264166111389444,b is -64.11758044371281,the loss is 81.45666051518099\n",
      "the time is:1099,k is 3.9687338048148435,b is -63.61758044371283,the loss is 61.208345823838656\n",
      "the time is:1149,k is 7.111050998490724,b is -63.11758044371293,the loss is 40.96003113249657\n",
      "the time is:1199,k is 10.250244872008532,b is -62.61793617493831,the loss is 20.75335806919457\n",
      "the time is:1249,k is 12.9079716704275,b is -62.191730641341444,the loss is 5.95521019808888\n",
      "the time is:1299,k is 13.48107174947888,b is -62.08497174806083,the loss is 4.846407541445732\n",
      "the time is:1349,k is 13.494763488609328,b is -62.065050799444215,the loss is 4.844667469515278\n",
      "the time is:1399,k is 13.492506690190384,b is -62.04773854647977,the loss is 4.84405522008202\n",
      "the time is:1449,k is 13.489528824577762,b is -62.03054487059044,the loss is 4.843446555073158\n",
      "the time is:1499,k is 13.486791314696367,b is -62.013311669009404,the loss is 4.842836951694341\n",
      "the time is:1549,k is 13.483813449083746,b is -61.99611799312007,the loss is 4.842229055999986\n",
      "the time is:1599,k is 13.48107593920235,b is -61.97888479153904,the loss is 4.841619452621164\n",
      "the time is:1649,k is 13.478338429320955,b is -61.961651589958,the loss is 4.841010340936978\n",
      "the time is:1699,k is 13.475360563708334,b is -61.94445791406867,the loss is 4.840401953547991\n",
      "the time is:1749,k is 13.472623053826938,b is -61.927224712487636,the loss is 4.839792350169166\n",
      "the time is:1799,k is 13.469885543945542,b is -61.9099915109066,the loss is 4.839184258576221\n",
      "the time is:1849,k is 13.466907678332921,b is -61.89279783501727,the loss is 4.838574851095987\n",
      "the time is:1899,k is 13.464170168451526,b is -61.875564633436234,the loss is 4.8379654617919385\n",
      "the time is:1949,k is 13.461192302838905,b is -61.8583709575469,the loss is 4.83735735202281\n",
      "the time is:1999,k is 13.45845479295751,b is -61.84113775596587,the loss is 4.836747748643982\n",
      "the time is:2049,k is 13.455717283076114,b is -61.82390455438483,the loss is 4.836139379431175\n",
      "the time is:2099,k is 13.452739417463492,b is -61.8067108784955,the loss is 4.83553024957081\n",
      "the time is:2149,k is 13.450001907582097,b is -61.789477676914466,the loss is 4.834920646191986\n",
      "the time is:2199,k is 13.447066373985283,b is -61.772284001025156,the loss is 4.834312976762029\n",
      "the time is:2249,k is 13.444568745526796,b is -61.75505079944424,the loss is 4.833708214863232\n",
      "the time is:2299,k is 13.441731512325216,b is -61.737896649246665,the loss is 4.833101272482833\n",
      "the time is:2349,k is 13.438993053827186,b is -61.72074249904904,the loss is 4.83249834654796\n",
      "the time is:2399,k is 13.436254595329157,b is -61.70358834885141,the loss is 4.831895420613095\n",
      "the time is:2449,k is 13.433770603234288,b is -61.68639467296208,the loss is 4.831291281642046\n",
      "the time is:2499,k is 13.431032144736259,b is -61.669240522764454,the loss is 4.830687484281643\n",
      "the time is:2549,k is 13.428105148688818,b is -61.652125898258504,the loss is 4.830086467041646\n",
      "the time is:2599,k is 13.425392421416067,b is -61.63501127375258,the loss is 4.829484878559401\n",
      "the time is:2649,k is 13.422679694143316,b is -61.61789664924666,the loss is 4.828883518492927\n",
      "the time is:2699,k is 13.41972898268084,b is -61.60082155043244,the loss is 4.828283742114917\n",
      "the time is:2749,k is 13.41701625540809,b is -61.58370692592652,the loss is 4.827682738406921\n",
      "the time is:2799,k is 13.414065543945615,b is -61.5666318271123,the loss is 4.827082605670439\n",
      "the time is:2849,k is 13.411352816672863,b is -61.54951720260638,the loss is 4.826481958320917\n",
      "the time is:2899,k is 13.408402105210389,b is -61.532442103792164,the loss is 4.825881469225946\n",
      "the time is:2949,k is 13.405689377937637,b is -61.51532747928624,the loss is 4.825281178234916\n",
      "the time is:2999,k is 13.402738666475162,b is -61.498252380472024,the loss is 4.824680332781465\n",
      "the time is:3049,k is 13.400025939202411,b is -61.4811377559661,the loss is 4.824080398148909\n",
      "the time is:3099,k is 13.397075227739936,b is -61.464062657151885,the loss is 4.823479196336984\n",
      "the time is:3149,k is 13.394362500467185,b is -61.44694803264596,the loss is 4.82287961806291\n",
      "the time is:3199,k is 13.39141178900471,b is -61.429872933831746,the loss is 4.822278059892495\n",
      "the time is:3249,k is 13.388461077542235,b is -61.41279783501753,the loss is 4.82167851193026\n",
      "the time is:3299,k is 13.385748350269484,b is -61.395683210511606,the loss is 4.821076923448019\n",
      "the time is:3349,k is 13.38279763880701,b is -61.37860811169739,the loss is 4.820477375485774\n",
      "the time is:3399,k is 13.380084911534258,b is -61.36149348719147,the loss is 4.819875787003534\n",
      "the time is:3449,k is 13.377134200071783,b is -61.34441838837725,the loss is 4.819276239041295\n",
      "the time is:3499,k is 13.374421472799032,b is -61.32730376387133,the loss is 4.8186749980841554\n",
      "the time is:3549,k is 13.371470761336557,b is -61.31022866505711,the loss is 4.818075102596814\n",
      "the time is:3599,k is 13.368758034063806,b is -61.29311404055119,the loss is 4.817474217998152\n",
      "the time is:3649,k is 13.36580732260133,b is -61.27603894173697,the loss is 4.816873966152323\n",
      "the time is:3699,k is 13.36309459532858,b is -61.25892431723105,the loss is 4.816273437912144\n",
      "the time is:3749,k is 13.360143883866105,b is -61.24184921841683,the loss is 4.815672829707845\n",
      "the time is:3799,k is 13.357431156593353,b is -61.22473459391091,the loss is 4.8150726578261445\n",
      "the time is:3849,k is 13.354480445130879,b is -61.20765949509669,the loss is 4.814471693263361\n",
      "the time is:3899,k is 13.351767717858127,b is -61.19054487059077,the loss is 4.813871877740138\n",
      "the time is:3949,k is 13.348817006395652,b is -61.17346977177655,the loss is 4.813270556818875\n",
      "the time is:3999,k is 13.345873409557683,b is -61.15639467296236,the loss is 4.8126715371990345\n",
      "the time is:4049,k is 13.343182026158448,b is -61.1392800484565,the loss is 4.81206941933007\n",
      "the time is:4099,k is 13.340266887818501,b is -61.12220494964239,the loss is 4.811469867730302\n",
      "the time is:4149,k is 13.337589733668278,b is -61.10509032513657,the loss is 4.810870142735771\n",
      "the time is:4199,k is 13.334912579518054,b is -61.08797570063076,the loss is 4.810272394116361\n",
      "the time is:4249,k is 13.331759456988383,b is -61.07094012750835,the loss is 4.809670752029243\n",
      "the time is:4299,k is 13.329089417462665,b is -61.053825503002535,the loss is 4.8090694885157514\n",
      "the time is:4349,k is 13.326419377936947,b is -61.03671087849672,the loss is 4.808471890245507\n",
      "the time is:4399,k is 13.32327099849028,b is -61.01967530537431,the loss is 4.807871129736922\n",
      "the time is:4449,k is 13.320612816672071,b is -61.002560680868456,the loss is 4.807269335459621\n"
     ]
    },
    {
     "name": "stdout",
     "output_type": "stream",
     "text": [
      "the time is:4499,k is 13.317726136830146,b is -60.985485582054274,the loss is 4.8066699620197095\n",
      "the time is:4550,k is 13.314763073589015,b is -60.96817332908988,the loss is 4.806069040037984\n",
      "the time is:4600,k is 13.312275761336059,b is -60.95141443580931,the loss is 4.80549299574613\n",
      "the time is:4650,k is 13.309425761336078,b is -60.93481364529555,the loss is 4.804925197095937\n",
      "the time is:4700,k is 13.306816117067322,b is -60.91817332909008,the loss is 4.804358283313429\n",
      "the time is:4750,k is 13.303966117067342,b is -60.90157253857632,the loss is 4.8037903225686875\n",
      "the time is:4800,k is 13.301356472798586,b is -60.88493222237085,the loss is 4.803223570880726\n",
      "the time is:4850,k is 13.298506472798605,b is -60.86833143185709,the loss is 4.802655448041437\n",
      "the time is:4900,k is 13.29589682852985,b is -60.85169111565162,the loss is 4.802088858448025\n",
      "the time is:4950,k is 13.293046828529869,b is -60.835090325137855,the loss is 4.8015205735141935\n",
      "the time is:5000,k is 13.290437184261114,b is -60.81845000893239,the loss is 4.800954146015325\n",
      "the time is:5050,k is 13.287587184261133,b is -60.801849218418624,the loss is 4.800385698986938\n",
      "the time is:5100,k is 13.284977539992378,b is -60.78520890221316,the loss is 4.799819433582635\n",
      "the time is:5150,k is 13.282127539992397,b is -60.76860811169939,the loss is 4.799250861847019\n",
      "the time is:5200,k is 13.279517895723641,b is -60.751967795493925,the loss is 4.798684721149931\n",
      "the time is:5250,k is 13.27666789572366,b is -60.73536700498016,the loss is 4.798116149414318\n",
      "the time is:5300,k is 13.274058251454905,b is -60.718726688774694,the loss is 4.797550008717235\n",
      "the time is:5350,k is 13.271388725763222,b is -60.70212589826097,the loss is 4.796984200806546\n",
      "the time is:5400,k is 13.268869872008292,b is -60.68556463343891,the loss is 4.796421950144686\n",
      "the time is:5450,k is 13.266351018253362,b is -60.66900336861685,the loss is 4.795862188422464\n",
      "the time is:5500,k is 13.26410259928104,b is -60.652402578103086,the loss is 4.79530034049699\n",
      "the time is:5550,k is 13.26158374552611,b is -60.63584131328103,the loss is 4.7947384270936\n",
      "the time is:5600,k is 13.259335326553789,b is -60.619240522767264,the loss is 4.794178730849293\n",
      "the time is:5650,k is 13.256816472798858,b is -60.602679257945205,the loss is 4.793616480187436\n",
      "the time is:5700,k is 13.254444338411513,b is -60.58611799312312,the loss is 4.79305910813598\n",
      "the time is:5750,k is 13.251673706000428,b is -60.56975435675954,the loss is 4.792506290232439\n",
      "the time is:5800,k is 13.248889397700008,b is -60.55343024608771,the loss is 4.791957686083101\n",
      "the time is:5850,k is 13.246105089399588,b is -60.537106135415875,the loss is 4.791409081933766\n",
      "the time is:5900,k is 13.243320781099168,b is -60.520782024744044,the loss is 4.790860477784429\n",
      "the time is:5950,k is 13.240536472798748,b is -60.50445791407221,the loss is 4.790311873635096\n",
      "the time is:6000,k is 13.237752164498328,b is -60.48813380340038,the loss is 4.789763536294292\n",
      "the time is:6050,k is 13.234967856197908,b is -60.47180969272855,the loss is 4.789215494550555\n",
      "the time is:6100,k is 13.232183547897488,b is -60.45548558205672,the loss is 4.788667452806818\n",
      "the time is:6150,k is 13.22963299453778,b is -60.43912194569318,the loss is 4.788118929580834\n",
      "the time is:6200,k is 13.22684868623736,b is -60.42279783502135,the loss is 4.787570325431501\n",
      "the time is:6250,k is 13.22406437793694,b is -60.40647372434952,the loss is 4.787021721282166\n",
      "the time is:6300,k is 13.22128006963652,b is -60.390149613677686,the loss is 4.786473117132827\n",
      "the time is:6350,k is 13.2184957613361,b is -60.373825503005854,the loss is 4.785924512983491\n",
      "the time is:6400,k is 13.21571145303568,b is -60.35750139233402,the loss is 4.785375908834163\n",
      "the time is:6450,k is 13.21292714473526,b is -60.34117728166219,the loss is 4.784827304684824\n",
      "the time is:6500,k is 13.21014283643484,b is -60.32485317099036,the loss is 4.784278971034753\n",
      "the time is:6550,k is 13.20735852813442,b is -60.30852906031853,the loss is 4.783730929291019\n",
      "the time is:6600,k is 13.204574219834,b is -60.292204949646695,the loss is 4.783182887547285\n",
      "the time is:6650,k is 13.202023666474293,b is -60.27584131328316,the loss is 4.782634360630559\n",
      "the time is:6700,k is 13.199239358173873,b is -60.25951720261133,the loss is 4.782085756481225\n",
      "the time is:6750,k is 13.196455049873453,b is -60.243193091939496,the loss is 4.7815371523318895\n",
      "the time is:6800,k is 13.193670741573033,b is -60.226868981267664,the loss is 4.780988548182555\n",
      "the time is:6850,k is 13.190886433272613,b is -60.21054487059583,the loss is 4.780439944033216\n",
      "the time is:6900,k is 13.188102124972193,b is -60.194220759924,the loss is 4.7798913398838785\n",
      "the time is:6950,k is 13.185317816671773,b is -60.17789664925217,the loss is 4.7793427357345415\n",
      "the time is:7000,k is 13.182744575565028,b is -60.161572538580344,the loss is 4.7787965897254745\n",
      "the time is:7050,k is 13.180646235644051,b is -60.14524842790851,the loss is 4.778255974531994\n",
      "the time is:7100,k is 13.178261373983943,b is -60.128963842928385,the loss is 4.7777132722603595\n",
      "the time is:7150,k is 13.176163034062967,b is -60.112639732256554,the loss is 4.777172657066874\n",
      "the time is:7200,k is 13.173778172402859,b is -60.09635514727643,the loss is 4.776629954795239\n",
      "the time is:7250,k is 13.171679832481882,b is -60.080031036604595,the loss is 4.776089339601761\n",
      "the time is:7300,k is 13.169294970821774,b is -60.06374645162447,the loss is 4.775546637330128\n",
      "the time is:7350,k is 13.167196630900797,b is -60.047422340952636,the loss is 4.7750060221366395\n",
      "the time is:7400,k is 13.1645893976992,b is -60.03121680735586,the loss is 4.774467610207918\n",
      "the time is:7450,k is 13.162238765288102,b is -60.01516937652593,the loss is 4.773940587918672\n",
      "the time is:7500,k is 13.159578093351303,b is -59.99920099707944,the loss is 4.773416334874181\n",
      "the time is:7550,k is 13.156917421414505,b is -59.98323261763295,the loss is 4.772892081829697\n",
      "the time is:7600,k is 13.154256749477707,b is -59.96726423818646,the loss is 4.772368333909292\n",
      "the time is:7650,k is 13.151838765287945,b is -59.95125633304826,the loss is 4.771844088520168\n",
      "the time is:7700,k is 13.149178093351146,b is -59.93528795360177,the loss is 4.771319835475683\n",
      "the time is:7750,k is 13.146517421414348,b is -59.91931957415528,the loss is 4.770795582431193\n",
      "the time is:7800,k is 13.14385674947755,b is -59.90335119470879,the loss is 4.770271609042501\n",
      "the time is:7850,k is 13.141438765287788,b is -59.887343289570595,the loss is 4.769747589121668\n",
      "the time is:7900,k is 13.13877809335099,b is -59.8713749101241,the loss is 4.769223336077176\n",
      "the time is:7950,k is 13.136117421414191,b is -59.85540653067761,the loss is 4.7686990830326845\n",
      "the time is:8000,k is 13.133456749477393,b is -59.83943815123112,the loss is 4.768174884175702\n",
      "the time is:8050,k is 13.13103876528763,b is -59.823430246092926,the loss is 4.7676510897231585\n",
      "the time is:8100,k is 13.128378093350833,b is -59.807461866646435,the loss is 4.767126836678674\n",
      "the time is:8150,k is 13.125717421414034,b is -59.79149348719994,the loss is 4.766602583634184\n",
      "the time is:8200,k is 13.123056749477236,b is -59.77552510775345,the loss is 4.766078330589692\n",
      "the time is:8250,k is 13.120638765287474,b is -59.75951720261526,the loss is 4.765554590324656\n",
      "the time is:8300,k is 13.117978093350676,b is -59.743548823168766,the loss is 4.765030337280168\n",
      "the time is:8350,k is 13.115317421413877,b is -59.727580443722275,the loss is 4.764506084235681\n",
      "the time is:8400,k is 13.112656749477079,b is -59.71161206427578,the loss is 4.763981831191189\n",
      "the time is:8450,k is 13.110238765287317,b is -59.69560415913759,the loss is 4.76345809092615\n",
      "the time is:8500,k is 13.107578093350519,b is -59.6796357796911,the loss is 4.76293383788166\n",
      "the time is:8550,k is 13.10491742141372,b is -59.663667400244606,the loss is 4.762409584837171\n",
      "the time is:8600,k is 13.102256749476922,b is -59.647699020798115,the loss is 4.761885331792686\n",
      "the time is:8650,k is 13.09983876528716,b is -59.63169111565992,the loss is 4.761361591527644\n",
      "the time is:8700,k is 13.097178093350362,b is -59.61572273621343,the loss is 4.7608373384831575\n",
      "the time is:8750,k is 13.094517421413563,b is -59.59975435676694,the loss is 4.76031308543867\n",
      "the time is:8800,k is 13.091856749476765,b is -59.583785977320446,the loss is 4.759788832394178\n"
     ]
    },
    {
     "name": "stdout",
     "output_type": "stream",
     "text": [
      "the time is:8850,k is 13.089438765287003,b is -59.56777807218225,the loss is 4.759265092129144\n",
      "the time is:8900,k is 13.086778093350205,b is -59.55180969273576,the loss is 4.758740839084649\n",
      "the time is:8950,k is 13.084117421413406,b is -59.53584131328927,the loss is 4.758216586040159\n",
      "the time is:9000,k is 13.081456749476608,b is -59.51987293384278,the loss is 4.757692332995675\n",
      "the time is:9050,k is 13.07879607753981,b is -59.503904554396286,the loss is 4.757168461920752\n",
      "the time is:9100,k is 13.076378093350048,b is -59.48789664925809,the loss is 4.756644339686146\n",
      "the time is:9150,k is 13.07371742141325,b is -59.4719282698116,the loss is 4.756120086641663\n",
      "the time is:9200,k is 13.071056749476451,b is -59.45595989036511,the loss is 4.75559583359717\n",
      "the time is:9250,k is 13.068396077539653,b is -59.43999151091862,the loss is 4.755071737053964\n",
      "the time is:9300,k is 13.06597809334989,b is -59.42398360578042,the loss is 4.754547840287643\n",
      "the time is:9350,k is 13.063913468843921,b is -59.407975700642226,the loss is 4.754026666419514\n",
      "the time is:9400,k is 13.0619371842589,b is -59.39196779550403,the loss is 4.753506134150622\n",
      "the time is:9450,k is 13.059960899673879,b is -59.375959890365834,the loss is 4.75298560188173\n",
      "the time is:9500,k is 13.057984615088857,b is -59.35995198522764,the loss is 4.752465069612832\n",
      "the time is:9550,k is 13.056008330503836,b is -59.34394408008944,the loss is 4.751944537343936\n",
      "the time is:9600,k is 13.05409765856706,b is -59.32809427771797,the loss is 4.751434204575803\n",
      "the time is:9650,k is 13.05199331074101,b is -59.31271878364697,the loss is 4.750953106596129\n",
      "the time is:9700,k is 13.049368804812195,b is -59.29750139234276,the loss is 4.750476307664437\n",
      "the time is:9750,k is 13.046985998488124,b is -59.28224447534685,the loss is 4.749998941897035\n",
      "the time is:9800,k is 13.04436149255931,b is -59.26702708404264,the loss is 4.7495227176931225\n",
      "the time is:9850,k is 13.041978686235238,b is -59.25177016704673,the loss is 4.749045055856897\n",
      "the time is:9900,k is 13.039848686235276,b is -59.2365132500508,the loss is 4.748575431253382\n",
      "the time is:9950,k is 13.037554733666136,b is -59.22157253858844,the loss is 4.748114593454266\n"
     ]
    }
   ],
   "source": [
    "trying_times=10000\n",
    "min_loss=float('inf')\n",
    "\n",
    "\n",
    "k=random.random()*200-100\n",
    "b=random.random()*200-100\n",
    "\n",
    "learning_rate=1e-02\n",
    "\n",
    "update_time=0\n",
    "\n",
    "for i in range(trying_times):\n",
    "    price_rm_k_and_b=[price(rm,k,b) for rm in x_rm]\n",
    "    current_loss=loss(y,price_rm_k_and_b)\n",
    "    \n",
    "    if current_loss<min_loss:\n",
    "        min_loss=current_loss\n",
    "        update_time+=1\n",
    "        if update_time%50==0:\n",
    "            print('the time is:{},k is {},b is {},the loss is {}'.format(i,k,b,min_loss))\n",
    "    k,b =k-learning_rate*partial_k(x_rm,y,price_rm_k_and_b),b-learning_rate*partial_b(y,price_rm_k_and_b)"
   ]
  },
  {
   "cell_type": "code",
   "execution_count": 155,
   "metadata": {},
   "outputs": [
    {
     "data": {
      "text/plain": [
       "(13.035923824575255, -59.20659230143441)"
      ]
     },
     "execution_count": 155,
     "metadata": {},
     "output_type": "execute_result"
    }
   ],
   "source": [
    "k,b"
   ]
  },
  {
   "cell_type": "code",
   "execution_count": 156,
   "metadata": {},
   "outputs": [
    {
     "data": {
      "text/plain": [
       "<matplotlib.collections.PathCollection at 0x1a21548400>"
      ]
     },
     "execution_count": 156,
     "metadata": {},
     "output_type": "execute_result"
    },
    {
     "data": {
      "image/png": "[encoded data removed]",
      "text/plain": [
       "<Figure size 432x288 with 1 Axes>"
      ]
     },
     "metadata": {
      "needs_background": "light"
     },
     "output_type": "display_data"
    }
   ],
   "source": [
    "plt.scatter(x_rm,y)\n",
    "plt.scatter(x_rm,price_rm_k_and_b)"
   ]
  }
 ],
 "metadata": {
  "kernelspec": {
   "display_name": "Python 3",
   "language": "python",
   "name": "python3"
  },
  "language_info": {
   "codemirror_mode": {
    "name": "ipython",
    "version": 3
   },
   "file_extension": ".py",
   "mimetype": "text/x-python",
   "name": "python",
   "nbconvert_exporter": "python",
   "pygments_lexer": "ipython3",
   "version": "3.7.1"
  }
 },
 "nbformat": 4,
 "nbformat_minor": 2
}
