{
 "cells": [
  {
   "cell_type": "code",
   "execution_count": 46,
   "metadata": {},
   "outputs": [],
   "source": [
    "solution={}\n",
    "def edit_distance(string1,string2):\n",
    "    if len(string1)==0:\n",
    "        return len(string2)\n",
    "    if len(string2)==0:\n",
    "        return len(string1)\n",
    "    if string1==string2:\n",
    "        return 0\n",
    "    \n",
    "    matrix=[[i+j for j in range(len(string2)+1)] for i in range(len(string1)+1)]\n",
    "    \n",
    "    for i in range(1,len(string1)+1):\n",
    "        for j in range(1,len(string2)+1):\n",
    "            candidates=[\n",
    "                (matrix[i-1][j]+1,'DEL {}'.format(string1[i-1])),#没有函数的调用，用的是之前计算出来的值\n",
    "                (matrix[i][j-1]+1,'ADD {}'.format(string2[j-1]))]\n",
    "            if string1[i-1]==string2[j-1]:\n",
    "                both_forward=(matrix[i-1][j-1]+0,'')\n",
    "            else:\n",
    "                both_forward=(matrix[i-1][j-1]+1,'SUB {}=>{}'.format(string1[i-1],string2[j-1]))\n",
    "            candidates.append(both_forward)\n",
    "            min_distance,operation=min(candidates,key=lambda x:x[0])#保存当前步骤的最优操作，及更新矩阵中编辑距离的值\n",
    "            matrix[i][j]=min_distance\n",
    "            solution[(string1[0:i],string2[0:j])]=operation\n",
    "    return matrix[len(string1)][len(string2)]"
   ]
  },
  {
   "cell_type": "code",
   "execution_count": 34,
   "metadata": {},
   "outputs": [
    {
     "data": {
      "text/plain": [
       "2"
      ]
     },
     "execution_count": 34,
     "metadata": {},
     "output_type": "execute_result"
    }
   ],
   "source": [
    "edit_distance('abc','bd')"
   ]
  },
  {
   "cell_type": "code",
   "execution_count": 35,
   "metadata": {},
   "outputs": [
    {
     "data": {
      "text/plain": [
       "{('a', 'b'): 'SUB a=>b',\n",
       " ('a', 'bd'): 'ADD d',\n",
       " ('ab', 'b'): '',\n",
       " ('ab', 'bd'): 'ADD d',\n",
       " ('abc', 'b'): 'DEL c',\n",
       " ('abc', 'bd'): 'SUB c=>d'}"
      ]
     },
     "execution_count": 35,
     "metadata": {},
     "output_type": "execute_result"
    }
   ],
   "source": [
    "solution"
   ]
  },
  {
   "cell_type": "code",
   "execution_count": 6,
   "metadata": {},
   "outputs": [
    {
     "data": {
      "text/plain": [
       "2"
      ]
     },
     "execution_count": 6,
     "metadata": {},
     "output_type": "execute_result"
    }
   ],
   "source": [
    "edit_distance('ABCDE', 'ABCCEF')"
   ]
  },
  {
   "cell_type": "code",
   "execution_count": 7,
   "metadata": {},
   "outputs": [
    {
     "data": {
      "text/plain": [
       "{('A', 'A'): '',\n",
       " ('A', 'AB'): 'ADD B',\n",
       " ('A', 'ABC'): 'ADD C',\n",
       " ('A', 'ABCC'): 'ADD C',\n",
       " ('A', 'ABCCE'): 'ADD E',\n",
       " ('A', 'ABCCEF'): 'ADD F',\n",
       " ('AB', 'A'): 'DEL B',\n",
       " ('AB', 'AB'): '',\n",
       " ('AB', 'ABC'): 'ADD C',\n",
       " ('AB', 'ABCC'): 'ADD C',\n",
       " ('AB', 'ABCCE'): 'ADD E',\n",
       " ('AB', 'ABCCEF'): 'ADD F',\n",
       " ('ABC', 'A'): 'DEL C',\n",
       " ('ABC', 'AB'): 'DEL C',\n",
       " ('ABC', 'ABC'): '',\n",
       " ('ABC', 'ABCC'): 'ADD C',\n",
       " ('ABC', 'ABCCE'): 'ADD E',\n",
       " ('ABC', 'ABCCEF'): 'ADD F',\n",
       " ('ABCD', 'A'): 'DEL D',\n",
       " ('ABCD', 'AB'): 'DEL D',\n",
       " ('ABCD', 'ABC'): 'DEL D',\n",
       " ('ABCD', 'ABCC'): 'SUB D=>C',\n",
       " ('ABCD', 'ABCCE'): 'ADD E',\n",
       " ('ABCD', 'ABCCEF'): 'ADD F',\n",
       " ('ABCDE', 'A'): 'DEL E',\n",
       " ('ABCDE', 'AB'): 'DEL E',\n",
       " ('ABCDE', 'ABC'): 'DEL E',\n",
       " ('ABCDE', 'ABCC'): 'DEL E',\n",
       " ('ABCDE', 'ABCCE'): '',\n",
       " ('ABCDE', 'ABCCEF'): 'ADD F'}"
      ]
     },
     "execution_count": 7,
     "metadata": {},
     "output_type": "execute_result"
    }
   ],
   "source": [
    "solution"
   ]
  },
  {
   "cell_type": "code",
   "execution_count": 47,
   "metadata": {},
   "outputs": [
    {
     "data": {
      "text/plain": [
       "3"
      ]
     },
     "execution_count": 47,
     "metadata": {},
     "output_type": "execute_result"
    }
   ],
   "source": [
    "edit_distance('kitten','sitting')"
   ]
  },
  {
   "cell_type": "code",
   "execution_count": 48,
   "metadata": {},
   "outputs": [
    {
     "data": {
      "text/plain": [
       "{('k', 's'): 'SUB k=>s',\n",
       " ('k', 'si'): 'ADD i',\n",
       " ('k', 'sit'): 'ADD t',\n",
       " ('k', 'sitt'): 'ADD t',\n",
       " ('k', 'sitti'): 'ADD i',\n",
       " ('k', 'sittin'): 'ADD n',\n",
       " ('k', 'sitting'): 'ADD g',\n",
       " ('ki', 's'): 'DEL i',\n",
       " ('ki', 'si'): '',\n",
       " ('ki', 'sit'): 'ADD t',\n",
       " ('ki', 'sitt'): 'ADD t',\n",
       " ('ki', 'sitti'): 'ADD i',\n",
       " ('ki', 'sittin'): 'ADD n',\n",
       " ('ki', 'sitting'): 'ADD g',\n",
       " ('kit', 's'): 'DEL t',\n",
       " ('kit', 'si'): 'DEL t',\n",
       " ('kit', 'sit'): '',\n",
       " ('kit', 'sitt'): 'ADD t',\n",
       " ('kit', 'sitti'): 'ADD i',\n",
       " ('kit', 'sittin'): 'ADD n',\n",
       " ('kit', 'sitting'): 'ADD g',\n",
       " ('kitt', 's'): 'DEL t',\n",
       " ('kitt', 'si'): 'DEL t',\n",
       " ('kitt', 'sit'): 'DEL t',\n",
       " ('kitt', 'sitt'): '',\n",
       " ('kitt', 'sitti'): 'ADD i',\n",
       " ('kitt', 'sittin'): 'ADD n',\n",
       " ('kitt', 'sitting'): 'ADD g',\n",
       " ('kitte', 's'): 'DEL e',\n",
       " ('kitte', 'si'): 'DEL e',\n",
       " ('kitte', 'sit'): 'DEL e',\n",
       " ('kitte', 'sitt'): 'DEL e',\n",
       " ('kitte', 'sitti'): 'SUB e=>i',\n",
       " ('kitte', 'sittin'): 'ADD n',\n",
       " ('kitte', 'sitting'): 'ADD g',\n",
       " ('kitten', 's'): 'DEL n',\n",
       " ('kitten', 'si'): 'DEL n',\n",
       " ('kitten', 'sit'): 'DEL n',\n",
       " ('kitten', 'sitt'): 'DEL n',\n",
       " ('kitten', 'sitti'): 'DEL n',\n",
       " ('kitten', 'sittin'): '',\n",
       " ('kitten', 'sitting'): 'ADD g'}"
      ]
     },
     "execution_count": 48,
     "metadata": {},
     "output_type": "execute_result"
    }
   ],
   "source": [
    "solution"
   ]
  },
  {
   "cell_type": "code",
   "execution_count": null,
   "metadata": {},
   "outputs": [],
   "source": [
    "solution_path=[]"
   ]
  },
  {
   "cell_type": "code",
   "execution_count": 13,
   "metadata": {},
   "outputs": [],
   "source": [
    "solution_path=[solution[('ABCDE', 'ABCCEF')]]+solution_path"
   ]
  },
  {
   "cell_type": "code",
   "execution_count": 14,
   "metadata": {},
   "outputs": [
    {
     "data": {
      "text/plain": [
       "['ADD F']"
      ]
     },
     "execution_count": 14,
     "metadata": {},
     "output_type": "execute_result"
    }
   ],
   "source": [
    "solution_path"
   ]
  },
  {
   "cell_type": "code",
   "execution_count": 17,
   "metadata": {},
   "outputs": [
    {
     "data": {
      "text/plain": [
       "'ADD'"
      ]
     },
     "execution_count": 17,
     "metadata": {},
     "output_type": "execute_result"
    }
   ],
   "source": [
    "solution[('ABCDE', 'ABCCEF')].split(' ')[0]"
   ]
  },
  {
   "cell_type": "code",
   "execution_count": 49,
   "metadata": {},
   "outputs": [],
   "source": [
    "solution_path=[]\n",
    "def solution_parse(string1,string2):\n",
    "    global solution_path\n",
    "    if len(string2)==0 and len(string1)==0:\n",
    "        return \n",
    "    elif len(string2)==0 and len(string1)==1:\n",
    "        solution_path=['DEL {}'.format(string1[0])]+solution_path\n",
    "        return \n",
    "    elif len(string1)==0 and len(string2)==1:\n",
    "        solution_path=['ADD {}'.format(string2[0])]+solution_path\n",
    "        return \n",
    "    else:\n",
    "        if len(solution[(string1,string2)])==0:\n",
    "            solution_parse(string1[:-1],string2[:-1])\n",
    "        else:\n",
    "            solution_path=[solution[(string1,string2)]]+solution_path\n",
    "            if solution[(string1,string2)].split(' ')[0]=='ADD':\n",
    "                solution_parse(string1,string2[:-1])\n",
    "            elif solution[(string1,string2)].split(' ')[0]=='DEL':\n",
    "                solution_parse(string1[:-1],string2) \n",
    "            else:\n",
    "                solution_parse(string1[:-1],string2[:-1])          \n",
    "            \n",
    "        "
   ]
  },
  {
   "cell_type": "code",
   "execution_count": 31,
   "metadata": {},
   "outputs": [],
   "source": [
    "solution_parse('ABCDE', 'ABCCEF')"
   ]
  },
  {
   "cell_type": "code",
   "execution_count": 32,
   "metadata": {},
   "outputs": [
    {
     "data": {
      "text/plain": [
       "['SUB D=>C', 'ADD F']"
      ]
     },
     "execution_count": 32,
     "metadata": {},
     "output_type": "execute_result"
    }
   ],
   "source": [
    "solution_path"
   ]
  },
  {
   "cell_type": "code",
   "execution_count": 44,
   "metadata": {},
   "outputs": [],
   "source": [
    "solution_parse('abc','bd')"
   ]
  },
  {
   "cell_type": "code",
   "execution_count": 45,
   "metadata": {},
   "outputs": [
    {
     "data": {
      "text/plain": [
       "['DEL a', 'SUB c=>d']"
      ]
     },
     "execution_count": 45,
     "metadata": {},
     "output_type": "execute_result"
    }
   ],
   "source": [
    "solution_path"
   ]
  },
  {
   "cell_type": "code",
   "execution_count": 50,
   "metadata": {},
   "outputs": [],
   "source": [
    "solution_parse('kitten','sitting')"
   ]
  },
  {
   "cell_type": "code",
   "execution_count": 51,
   "metadata": {},
   "outputs": [
    {
     "data": {
      "text/plain": [
       "['SUB k=>s', 'SUB e=>i', 'ADD g']"
      ]
     },
     "execution_count": 51,
     "metadata": {},
     "output_type": "execute_result"
    }
   ],
   "source": [
    "solution_path"
   ]
  },
  {
   "cell_type": "code",
   "execution_count": null,
   "metadata": {},
   "outputs": [],
   "source": []
  }
 ],
 "metadata": {
  "kernelspec": {
   "display_name": "Python 3",
   "language": "python",
   "name": "python3"
  },
  "language_info": {
   "codemirror_mode": {
    "name": "ipython",
    "version": 3
   },
   "file_extension": ".py",
   "mimetype": "text/x-python",
   "name": "python",
   "nbconvert_exporter": "python",
   "pygments_lexer": "ipython3",
   "version": "3.7.1"
  }
 },
 "nbformat": 4,
 "nbformat_minor": 2
}
