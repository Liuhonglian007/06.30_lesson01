{
 "cells": [
  {
   "cell_type": "markdown",
   "metadata": {},
   "source": [
    "# 1.Summarize the reasons of overfitting and underfitting"
   ]
  },
  {
   "cell_type": "markdown",
   "metadata": {},
   "source": [
    "The reasons of overfitting: 数据量太少；数据采样偏差；模型太复杂\n",
    "\n",
    "The reasons of underfitting: 模型太过简单，容量不够"
   ]
  },
  {
   "cell_type": "markdown",
   "metadata": {},
   "source": [
    "# 2.Writing down three sceneries that machine learning has been used now"
   ]
  },
  {
   "cell_type": "markdown",
   "metadata": {},
   "source": [
    "商品推荐；广告中的ctr预估；语音识别；量化投资"
   ]
  },
  {
   "cell_type": "markdown",
   "metadata": {},
   "source": [
    "# 3.Come out with three new sceneries with which machine learning may be applied"
   ]
  },
  {
   "cell_type": "markdown",
   "metadata": {},
   "source": [
    "智能家居（主动的语音交互和全息投影）、健康医疗（疾病预测、疾病诊断和治疗）、文化娱乐（创意创作、内容治理、原生视频广告植入、偏好推荐等）"
   ]
  }
 ],
 "metadata": {
  "kernelspec": {
   "display_name": "Python 3",
   "language": "python",
   "name": "python3"
  },
  "language_info": {
   "codemirror_mode": {
    "name": "ipython",
    "version": 3
   },
   "file_extension": ".py",
   "mimetype": "text/x-python",
   "name": "python",
   "nbconvert_exporter": "python",
   "pygments_lexer": "ipython3",
   "version": "3.7.1"
  }
 },
 "nbformat": 4,
 "nbformat_minor": 2
}
